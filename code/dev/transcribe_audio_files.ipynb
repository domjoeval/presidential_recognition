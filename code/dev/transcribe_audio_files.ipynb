{
 "cells": [
  {
   "cell_type": "code",
   "execution_count": 19,
   "id": "5ddeb93c",
   "metadata": {},
   "outputs": [],
   "source": [
    "import os\n",
    "import whisper\n",
    "import polars as pl\n",
    "import pickle\n",
    "from babel.dates import format_time"
   ]
  },
  {
   "cell_type": "code",
   "execution_count": 24,
   "id": "91ffd998-c01d-406a-b458-9630450e238c",
   "metadata": {},
   "outputs": [],
   "source": [
    "# Function to transcribe audio using OpenAI's transcription service\n",
    "def transcribe_audio(model, audio_path, transcript_path, df):\n",
    "    n = df.shape[0]\n",
    "    temp_column = []\n",
    "    for i in range(0, n):\n",
    "        print(\"Processing segment \" + str(i) + \" of \" + str(n))\n",
    "        file_path = audio_path + \"/\" + df[i, 'file_id'] + \"_\" + str(round(df[i, 'start'], 3)) + \".wav\"\n",
    "        result = model.transcribe(file_path)\n",
    "        temp_column.append(result['text']) # add transcript text to column to add to df\n",
    "        with open(transcript_path + \"/\" + df[i, 'file_id'] + \"_\" + str(round(df[i, 'start'], 3)) + \".pkl\", \"wb\") as fp:   # pickling full transcript data\n",
    "            pickle.dump(result, fp)\n",
    "        print(\"Segment \" + str(i) + \" of \" + str(n) + \" complete\")\n",
    "    df = df.with_columns(pl.Series(name=\"transcript\", values=temp_column))\n",
    "    return(df)\n"
   ]
  },
  {
   "cell_type": "code",
   "execution_count": null,
   "id": "e60ac8cf",
   "metadata": {},
   "outputs": [],
   "source": []
  },
  {
   "cell_type": "code",
   "execution_count": 14,
   "id": "dac3d1db",
   "metadata": {},
   "outputs": [
    {
     "name": "stdout",
     "output_type": "stream",
     "text": [
      "shape: (2, 7)\n",
      "┌──────────────────────────────┬─────────────┬────────┬──────────┬───────────┬─────────────┬───────┐\n",
      "│ file_id                      ┆ speaker_est ┆ start  ┆ duration ┆ end       ┆ speaker_val ┆ notes │\n",
      "│ ---                          ┆ ---         ┆ ---    ┆ ---      ┆ ---       ┆ ---         ┆ ---   │\n",
      "│ str                          ┆ str         ┆ f64    ┆ f64      ┆ f64       ┆ str         ┆ str   │\n",
      "╞══════════════════════════════╪═════════════╪════════╪══════════╪═══════════╪═════════════╪═══════╡\n",
      "│ pres_trimmed_incl_scene-P-19 ┆ SPEAKER_03  ┆ 33.998 ┆ 8.472    ┆ 42.47     ┆ other       ┆ null  │\n",
      "│ 04-1…                        ┆             ┆        ┆          ┆           ┆             ┆       │\n",
      "│ pres_trimmed_incl_scene-P-19 ┆ SPEAKER_02  ┆ 42.47  ┆ 2.088    ┆ 44.558002 ┆ biden       ┆ null  │\n",
      "│ 04-1…                        ┆             ┆        ┆          ┆           ┆             ┆       │\n",
      "└──────────────────────────────┴─────────────┴────────┴──────────┴───────────┴─────────────┴───────┘\n"
     ]
    }
   ],
   "source": [
    "df = pl.read_csv(\"../data/ad_validation_initial.csv\")\n",
    "df_test = df[6:8]\n",
    "print(df_test)"
   ]
  },
  {
   "cell_type": "code",
   "execution_count": 25,
   "id": "3536fe06",
   "metadata": {},
   "outputs": [
    {
     "name": "stdout",
     "output_type": "stream",
     "text": [
      "Processing segment 0 of 2\n"
     ]
    },
    {
     "name": "stderr",
     "output_type": "stream",
     "text": [
      "/Users/dominicvalentino/Documents/Harvard/presidential_recognition/pr/lib/python3.9/site-packages/whisper/transcribe.py:126: UserWarning: FP16 is not supported on CPU; using FP32 instead\n",
      "  warnings.warn(\"FP16 is not supported on CPU; using FP32 instead\")\n"
     ]
    },
    {
     "name": "stdout",
     "output_type": "stream",
     "text": [
      "Segment 0 of 2 complete\n",
      "Processing segment 1 of 2\n"
     ]
    },
    {
     "name": "stderr",
     "output_type": "stream",
     "text": [
      "/Users/dominicvalentino/Documents/Harvard/presidential_recognition/pr/lib/python3.9/site-packages/whisper/transcribe.py:126: UserWarning: FP16 is not supported on CPU; using FP32 instead\n",
      "  warnings.warn(\"FP16 is not supported on CPU; using FP32 instead\")\n"
     ]
    },
    {
     "name": "stdout",
     "output_type": "stream",
     "text": [
      "Segment 1 of 2 complete\n",
      "shape: (2, 8)\n",
      "┌───────────────┬─────────────┬────────┬──────────┬───────────┬─────────────┬───────┬──────────────┐\n",
      "│ file_id       ┆ speaker_est ┆ start  ┆ duration ┆ end       ┆ speaker_val ┆ notes ┆ transcript   │\n",
      "│ ---           ┆ ---         ┆ ---    ┆ ---      ┆ ---       ┆ ---         ┆ ---   ┆ ---          │\n",
      "│ str           ┆ str         ┆ f64    ┆ f64      ┆ f64       ┆ str         ┆ str   ┆ str          │\n",
      "╞═══════════════╪═════════════╪════════╪══════════╪═══════════╪═════════════╪═══════╪══════════════╡\n",
      "│ pres_trimmed_ ┆ SPEAKER_03  ┆ 33.998 ┆ 8.472    ┆ 42.47     ┆ other       ┆ null  ┆ You were     │\n",
      "│ incl_scene-P- ┆             ┆        ┆          ┆           ┆             ┆       ┆ asked, is he │\n",
      "│ 1904-1…       ┆             ┆        ┆          ┆           ┆             ┆       ┆ ready? Yo…   │\n",
      "│ pres_trimmed_ ┆ SPEAKER_02  ┆ 42.47  ┆ 2.088    ┆ 44.558002 ┆ biden       ┆ null  ┆ I think that │\n",
      "│ incl_scene-P- ┆             ┆        ┆          ┆           ┆             ┆       ┆ I stand by   │\n",
      "│ 1904-1…       ┆             ┆        ┆          ┆           ┆             ┆       ┆ the sta…     │\n",
      "└───────────────┴─────────────┴────────┴──────────┴───────────┴─────────────┴───────┴──────────────┘\n"
     ]
    }
   ],
   "source": [
    "model = whisper.load_model(\"large\")\n",
    "df_trans = transcribe_audio(model, \"../data/ad_audio_split_testing\", \"../data/ad_transcripts_testing\", df_test)"
   ]
  },
  {
   "cell_type": "code",
   "execution_count": 28,
   "id": "2c5309d1",
   "metadata": {},
   "outputs": [
    {
     "name": "stdout",
     "output_type": "stream",
     "text": [
      "pres_trimmed_incl_scene-P-1904-108497\n",
      " You were asked, is he ready? You said, I think he can be ready, but right now I don't believe he is. The presidency is not something that lends itself to on-the-job training.\n"
     ]
    }
   ],
   "source": [
    "print(df_trans['file_id'][0])\n",
    "print(df_trans['transcript'][0])"
   ]
  }
 ],
 "metadata": {
  "kernelspec": {
   "display_name": "diss_env",
   "language": "python",
   "name": "python3"
  },
  "language_info": {
   "codemirror_mode": {
    "name": "ipython",
    "version": 3
   },
   "file_extension": ".py",
   "mimetype": "text/x-python",
   "name": "python",
   "nbconvert_exporter": "python",
   "pygments_lexer": "ipython3",
   "version": "3.9.7"
  }
 },
 "nbformat": 4,
 "nbformat_minor": 5
}
