{
 "cells": [
  {
   "cell_type": "code",
   "execution_count": 1,
   "id": "5ddeb93c",
   "metadata": {},
   "outputs": [],
   "source": [
    "import os\n",
    "import polars as pl\n",
    "\n",
    "def read_rttm_file(file_path):\n",
    "    # Read an RTTM file and return its content as a DataFrame\n",
    "    columns = [\"Type\", \"FileID\", \"Channel\", \"StartTime\", \"Duration\", \"SpeakerType\", \"Confidence\", \"SpeakerID\", \"Signal\"]\n",
    "\n",
    "    with open(file_path, 'r') as file:\n",
    "        lines = file.readlines()\n",
    "\n",
    "    data = [line.strip().split()[:9] for line in lines]\n",
    "    df = pl.DataFrame(data, schema=columns)\n",
    "\n",
    "    return df\n",
    "\n",
    "def combine_rttm_files(directory_path):\n",
    "    # Combine all RTTM files in a directory into a single DataFrame\n",
    "    all_dataframes = []\n",
    "\n",
    "    for filename in os.listdir(directory_path):\n",
    "        if filename.endswith(\".rttm\"):\n",
    "            file_path = os.path.join(directory_path, filename)\n",
    "            df = read_rttm_file(file_path)\n",
    "            all_dataframes.append(df)\n",
    "\n",
    "    if not all_dataframes:\n",
    "        print(\"No .rttm files found in the specified directory.\")\n",
    "        return None\n",
    "\n",
    "    combined_df = pl.concat(all_dataframes)\n",
    "    return combined_df"
   ]
  },
  {
   "cell_type": "code",
   "execution_count": 2,
   "id": "91ffd998-c01d-406a-b458-9630450e238c",
   "metadata": {},
   "outputs": [
    {
     "name": "stdout",
     "output_type": "stream",
     "text": [
      "shape: (5, 9)\n",
      "┌─────────┬─────────────┬─────────┬───────────┬───┬─────────────┬────────────┬────────────┬────────┐\n",
      "│ Type    ┆ FileID      ┆ Channel ┆ StartTime ┆ … ┆ SpeakerType ┆ Confidence ┆ SpeakerID  ┆ Signal │\n",
      "│ ---     ┆ ---         ┆ ---     ┆ ---       ┆   ┆ ---         ┆ ---        ┆ ---        ┆ ---    │\n",
      "│ str     ┆ str         ┆ str     ┆ str       ┆   ┆ str         ┆ str        ┆ str        ┆ str    │\n",
      "╞═════════╪═════════════╪═════════╪═══════════╪═══╪═════════════╪════════════╪════════════╪════════╡\n",
      "│ SPEAKER ┆ pres_trimme ┆ 1       ┆ 3.879     ┆ … ┆ <NA>        ┆ <NA>       ┆ SPEAKER_04 ┆ <NA>   │\n",
      "│         ┆ d_incl_scen ┆         ┆           ┆   ┆             ┆            ┆            ┆        │\n",
      "│         ┆ e-P-1904-1… ┆         ┆           ┆   ┆             ┆            ┆            ┆        │\n",
      "│ SPEAKER ┆ pres_trimme ┆ 1       ┆ 9.228     ┆ … ┆ <NA>        ┆ <NA>       ┆ SPEAKER_02 ┆ <NA>   │\n",
      "│         ┆ d_incl_scen ┆         ┆           ┆   ┆             ┆            ┆            ┆        │\n",
      "│         ┆ e-P-1904-1… ┆         ┆           ┆   ┆             ┆            ┆            ┆        │\n",
      "│ SPEAKER ┆ pres_trimme ┆ 1       ┆ 13.166    ┆ … ┆ <NA>        ┆ <NA>       ┆ SPEAKER_02 ┆ <NA>   │\n",
      "│         ┆ d_incl_scen ┆         ┆           ┆   ┆             ┆            ┆            ┆        │\n",
      "│         ┆ e-P-1904-1… ┆         ┆           ┆   ┆             ┆            ┆            ┆        │\n",
      "│ SPEAKER ┆ pres_trimme ┆ 1       ┆ 16.426    ┆ … ┆ <NA>        ┆ <NA>       ┆ SPEAKER_04 ┆ <NA>   │\n",
      "│         ┆ d_incl_scen ┆         ┆           ┆   ┆             ┆            ┆            ┆        │\n",
      "│         ┆ e-P-1904-1… ┆         ┆           ┆   ┆             ┆            ┆            ┆        │\n",
      "│ SPEAKER ┆ pres_trimme ┆ 1       ┆ 25.934    ┆ … ┆ <NA>        ┆ <NA>       ┆ SPEAKER_01 ┆ <NA>   │\n",
      "│         ┆ d_incl_scen ┆         ┆           ┆   ┆             ┆            ┆            ┆        │\n",
      "│         ┆ e-P-1904-1… ┆         ┆           ┆   ┆             ┆            ┆            ┆        │\n",
      "└─────────┴─────────────┴─────────┴───────────┴───┴─────────────┴────────────┴────────────┴────────┘\n"
     ]
    }
   ],
   "source": [
    "# Example usage:\n",
    "directory_path = \"../data/ad_audio_diarized\"\n",
    "result_df = combine_rttm_files(directory_path)\n",
    "\n",
    "# If result_df is not None, you can now work with the combined DataFrame.\n",
    "if result_df is not None:\n",
    "    print(result_df.head())\n",
    "    # Perform any additional operations on the DataFrame as needed."
   ]
  },
  {
   "cell_type": "code",
   "execution_count": 6,
   "id": "9c013707",
   "metadata": {},
   "outputs": [],
   "source": [
    "df = (\n",
    "    result_df\n",
    "    .select(pl.col(\"FileID\", \"SpeakerID\"), pl.col(\"StartTime\", \"Duration\").cast(pl.Float32))\n",
    "    .rename({\"FileID\": \"file_id\", \"StartTime\": \"start\", \"Duration\": \"duration\", \"SpeakerID\": \"speaker_est\"})\n",
    "    .with_columns((pl.col(\"start\") + pl.col(\"duration\")).alias(\"end\"))\n",
    ")"
   ]
  },
  {
   "cell_type": "code",
   "execution_count": 8,
   "id": "8e762542",
   "metadata": {},
   "outputs": [
    {
     "data": {
      "text/html": [
       "<div><style>\n",
       ".dataframe > thead > tr,\n",
       ".dataframe > tbody > tr {\n",
       "  text-align: right;\n",
       "  white-space: pre-wrap;\n",
       "}\n",
       "</style>\n",
       "<small>shape: (5, 5)</small><table border=\"1\" class=\"dataframe\"><thead><tr><th>file_id</th><th>speaker_est</th><th>start</th><th>duration</th><th>end</th></tr><tr><td>str</td><td>str</td><td>f32</td><td>f32</td><td>f32</td></tr></thead><tbody><tr><td>&quot;P-1904-108497&quot;</td><td>&quot;SPEAKER_04&quot;</td><td>3.879</td><td>5.195</td><td>9.074</td></tr><tr><td>&quot;P-1904-108497&quot;</td><td>&quot;SPEAKER_02&quot;</td><td>9.228</td><td>2.733</td><td>11.960999</td></tr><tr><td>&quot;P-1904-108497&quot;</td><td>&quot;SPEAKER_02&quot;</td><td>13.166</td><td>3.311</td><td>16.477001</td></tr><tr><td>&quot;P-1904-108497&quot;</td><td>&quot;SPEAKER_04&quot;</td><td>16.426001</td><td>8.761</td><td>25.187</td></tr><tr><td>&quot;P-1904-108497&quot;</td><td>&quot;SPEAKER_01&quot;</td><td>25.934</td><td>3.107</td><td>29.041</td></tr></tbody></table></div>"
      ],
      "text/plain": [
       "shape: (5, 5)\n",
       "┌───────────────┬─────────────┬───────────┬──────────┬───────────┐\n",
       "│ file_id       ┆ speaker_est ┆ start     ┆ duration ┆ end       │\n",
       "│ ---           ┆ ---         ┆ ---       ┆ ---      ┆ ---       │\n",
       "│ str           ┆ str         ┆ f32       ┆ f32      ┆ f32       │\n",
       "╞═══════════════╪═════════════╪═══════════╪══════════╪═══════════╡\n",
       "│ P-1904-108497 ┆ SPEAKER_04  ┆ 3.879     ┆ 5.195    ┆ 9.074     │\n",
       "│ P-1904-108497 ┆ SPEAKER_02  ┆ 9.228     ┆ 2.733    ┆ 11.960999 │\n",
       "│ P-1904-108497 ┆ SPEAKER_02  ┆ 13.166    ┆ 3.311    ┆ 16.477001 │\n",
       "│ P-1904-108497 ┆ SPEAKER_04  ┆ 16.426001 ┆ 8.761    ┆ 25.187    │\n",
       "│ P-1904-108497 ┆ SPEAKER_01  ┆ 25.934    ┆ 3.107    ┆ 29.041    │\n",
       "└───────────────┴─────────────┴───────────┴──────────┴───────────┘"
      ]
     },
     "execution_count": 8,
     "metadata": {},
     "output_type": "execute_result"
    }
   ],
   "source": [
    "df.head()\n"
   ]
  },
  {
   "cell_type": "code",
   "execution_count": 9,
   "id": "2fce4542",
   "metadata": {},
   "outputs": [],
   "source": [
    "df.write_csv(\"../data/ad_validation.csv\")"
   ]
  }
 ],
 "metadata": {
  "kernelspec": {
   "display_name": "diss_env",
   "language": "python",
   "name": "python3"
  },
  "language_info": {
   "codemirror_mode": {
    "name": "ipython",
    "version": 3
   },
   "file_extension": ".py",
   "mimetype": "text/x-python",
   "name": "python",
   "nbconvert_exporter": "python",
   "pygments_lexer": "ipython3",
   "version": "3.9.7"
  }
 },
 "nbformat": 4,
 "nbformat_minor": 5
}
