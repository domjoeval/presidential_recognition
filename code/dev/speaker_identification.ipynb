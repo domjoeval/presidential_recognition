{
 "cells": [
  {
   "cell_type": "code",
   "execution_count": 1,
   "id": "4d9c805f-2536-46ac-8f75-ea1ce6cda732",
   "metadata": {},
   "outputs": [
    {
     "name": "stderr",
     "output_type": "stream",
     "text": [
      "/Users/dominicvalentino/Documents/Harvard/presidential_recognition/pr/lib/python3.9/site-packages/pyannote/audio/core/io.py:43: UserWarning: torchaudio._backend.set_audio_backend has been deprecated. With dispatcher enabled, this function is no-op. You can remove the function call.\n",
      "  torchaudio.set_audio_backend(\"soundfile\")\n",
      "/Users/dominicvalentino/Documents/Harvard/presidential_recognition/pr/lib/python3.9/site-packages/tqdm/auto.py:21: TqdmWarning: IProgress not found. Please update jupyter and ipywidgets. See https://ipywidgets.readthedocs.io/en/stable/user_install.html\n",
      "  from .autonotebook import tqdm as notebook_tqdm\n"
     ]
    }
   ],
   "source": [
    "import os\n",
    "import math\n",
    "import numpy as np\n",
    "from pyannote.audio import Pipeline, Inference, Model\n",
    "from scipy.spatial.distance import cdist\n",
    "from extract_audio import *\n",
    "from sp_diarization import *\n",
    "from rttm_to_csv import *\n",
    "from split_audio import * "
   ]
  },
  {
   "cell_type": "code",
   "execution_count": 2,
   "id": "5ddeb93c",
   "metadata": {},
   "outputs": [],
   "source": [
    "df = pl.read_csv(\"../data/ad_validation_initial.csv\")"
   ]
  },
  {
   "cell_type": "code",
   "execution_count": 3,
   "id": "fb1660c7",
   "metadata": {},
   "outputs": [],
   "source": [
    "pres_embeddings_directory = \"../data/speech_embedding_models\"\n",
    "split_audio_directory = \"../data/ad_audio_split_testing/\"\n",
    "hf_auth = os.environ['HF_AUTH']"
   ]
  },
  {
   "cell_type": "code",
   "execution_count": 4,
   "id": "91ffd998-c01d-406a-b458-9630450e238c",
   "metadata": {},
   "outputs": [
    {
     "name": "stderr",
     "output_type": "stream",
     "text": [
      "Lightning automatically upgraded your loaded checkpoint from v1.2.7 to v2.2.0.post0. To apply the upgrade to your files permanently, run `python -m pytorch_lightning.utilities.upgrade_checkpoint ../../../../.cache/torch/pyannote/models--pyannote--embedding/snapshots/c6335d8f1cd77b30084387468a6cf26fea90009b/pytorch_model.bin`\n",
      "Lightning automatically upgraded your loaded checkpoint from v1.2.7 to v2.2.0.post0. To apply the upgrade to your files permanently, run `python -m pytorch_lightning.utilities.upgrade_checkpoint ../../../../.cache/torch/pyannote/models--pyannote--embedding/snapshots/c6335d8f1cd77b30084387468a6cf26fea90009b/pytorch_model.bin`\n"
     ]
    },
    {
     "name": "stdout",
     "output_type": "stream",
     "text": [
      "Model was trained with pyannote.audio 0.0.1, yours is 3.1.1. Bad things might happen unless you revert pyannote.audio to 0.x.\n",
      "Model was trained with torch 1.8.1+cu102, yours is 2.2.0. Bad things might happen unless you revert torch to 1.x.\n",
      "Model was trained with pyannote.audio 0.0.1, yours is 3.1.1. Bad things might happen unless you revert pyannote.audio to 0.x.\n",
      "Model was trained with torch 1.8.1+cu102, yours is 2.2.0. Bad things might happen unless you revert torch to 1.x.\n",
      "obama\n",
      "gore\n",
      "other\n",
      "biden\n",
      "kerry\n",
      "bush\n",
      "trump\n",
      "romney\n",
      "multi\n",
      "clinton\n",
      "mccain\n"
     ]
    },
    {
     "data": {
      "text/html": [
       "<div><style>\n",
       ".dataframe > thead > tr,\n",
       ".dataframe > tbody > tr {\n",
       "  text-align: right;\n",
       "  white-space: pre-wrap;\n",
       "}\n",
       "</style>\n",
       "<small>shape: (5, 18)</small><table border=\"1\" class=\"dataframe\"><thead><tr><th>file_id</th><th>speaker_est</th><th>start</th><th>duration</th><th>end</th><th>speaker_val</th><th>notes</th><th>obama</th><th>gore</th><th>other</th><th>biden</th><th>kerry</th><th>bush</th><th>trump</th><th>romney</th><th>multi</th><th>clinton</th><th>mccain</th></tr><tr><td>str</td><td>str</td><td>f64</td><td>f64</td><td>f64</td><td>str</td><td>str</td><td>f64</td><td>f64</td><td>f64</td><td>f64</td><td>f64</td><td>f64</td><td>f64</td><td>f64</td><td>f64</td><td>f64</td><td>f64</td></tr></thead><tbody><tr><td>&quot;pres_trimmed_i…</td><td>&quot;SPEAKER_04&quot;</td><td>3.879</td><td>5.195</td><td>9.074</td><td>&quot;other&quot;</td><td>null</td><td>-0.002337</td><td>-0.12813</td><td>-0.074071</td><td>-0.096068</td><td>0.06008</td><td>0.018305</td><td>0.130929</td><td>0.011301</td><td>-0.015798</td><td>-0.004148</td><td>-0.049703</td></tr><tr><td>&quot;pres_trimmed_i…</td><td>&quot;SPEAKER_02&quot;</td><td>9.228</td><td>2.733</td><td>11.960999</td><td>&quot;other&quot;</td><td>null</td><td>0.088856</td><td>0.118086</td><td>0.061464</td><td>0.258948</td><td>0.160521</td><td>0.173348</td><td>0.149768</td><td>0.021883</td><td>0.19822</td><td>0.057804</td><td>0.100658</td></tr><tr><td>&quot;pres_trimmed_i…</td><td>&quot;SPEAKER_02&quot;</td><td>13.166</td><td>3.311</td><td>16.477001</td><td>&quot;other&quot;</td><td>null</td><td>0.016902</td><td>0.109829</td><td>0.040137</td><td>0.188172</td><td>0.05597</td><td>0.187984</td><td>0.174335</td><td>0.091358</td><td>0.169485</td><td>0.028696</td><td>0.194025</td></tr><tr><td>&quot;pres_trimmed_i…</td><td>&quot;SPEAKER_04&quot;</td><td>16.426</td><td>8.761</td><td>25.187</td><td>&quot;other&quot;</td><td>null</td><td>0.193229</td><td>0.07819</td><td>0.202613</td><td>0.226703</td><td>0.301889</td><td>0.173276</td><td>0.231272</td><td>0.234215</td><td>0.34692</td><td>0.090822</td><td>0.247603</td></tr><tr><td>&quot;pres_trimmed_i…</td><td>&quot;SPEAKER_01&quot;</td><td>25.934</td><td>3.107</td><td>29.041</td><td>&quot;clinton&quot;</td><td>null</td><td>0.017145</td><td>0.018516</td><td>0.274224</td><td>0.077648</td><td>0.049014</td><td>0.077589</td><td>0.152602</td><td>0.090006</td><td>0.190045</td><td>0.38378</td><td>0.107407</td></tr></tbody></table></div>"
      ],
      "text/plain": [
       "shape: (5, 18)\n",
       "┌─────────────┬─────────────┬────────┬──────────┬───┬──────────┬───────────┬───────────┬───────────┐\n",
       "│ file_id     ┆ speaker_est ┆ start  ┆ duration ┆ … ┆ romney   ┆ multi     ┆ clinton   ┆ mccain    │\n",
       "│ ---         ┆ ---         ┆ ---    ┆ ---      ┆   ┆ ---      ┆ ---       ┆ ---       ┆ ---       │\n",
       "│ str         ┆ str         ┆ f64    ┆ f64      ┆   ┆ f64      ┆ f64       ┆ f64       ┆ f64       │\n",
       "╞═════════════╪═════════════╪════════╪══════════╪═══╪══════════╪═══════════╪═══════════╪═══════════╡\n",
       "│ pres_trimme ┆ SPEAKER_04  ┆ 3.879  ┆ 5.195    ┆ … ┆ 0.011301 ┆ -0.015798 ┆ -0.004148 ┆ -0.049703 │\n",
       "│ d_incl_scen ┆             ┆        ┆          ┆   ┆          ┆           ┆           ┆           │\n",
       "│ e-P-1904-1… ┆             ┆        ┆          ┆   ┆          ┆           ┆           ┆           │\n",
       "│ pres_trimme ┆ SPEAKER_02  ┆ 9.228  ┆ 2.733    ┆ … ┆ 0.021883 ┆ 0.19822   ┆ 0.057804  ┆ 0.100658  │\n",
       "│ d_incl_scen ┆             ┆        ┆          ┆   ┆          ┆           ┆           ┆           │\n",
       "│ e-P-1904-1… ┆             ┆        ┆          ┆   ┆          ┆           ┆           ┆           │\n",
       "│ pres_trimme ┆ SPEAKER_02  ┆ 13.166 ┆ 3.311    ┆ … ┆ 0.091358 ┆ 0.169485  ┆ 0.028696  ┆ 0.194025  │\n",
       "│ d_incl_scen ┆             ┆        ┆          ┆   ┆          ┆           ┆           ┆           │\n",
       "│ e-P-1904-1… ┆             ┆        ┆          ┆   ┆          ┆           ┆           ┆           │\n",
       "│ pres_trimme ┆ SPEAKER_04  ┆ 16.426 ┆ 8.761    ┆ … ┆ 0.234215 ┆ 0.34692   ┆ 0.090822  ┆ 0.247603  │\n",
       "│ d_incl_scen ┆             ┆        ┆          ┆   ┆          ┆           ┆           ┆           │\n",
       "│ e-P-1904-1… ┆             ┆        ┆          ┆   ┆          ┆           ┆           ┆           │\n",
       "│ pres_trimme ┆ SPEAKER_01  ┆ 25.934 ┆ 3.107    ┆ … ┆ 0.090006 ┆ 0.190045  ┆ 0.38378   ┆ 0.107407  │\n",
       "│ d_incl_scen ┆             ┆        ┆          ┆   ┆          ┆           ┆           ┆           │\n",
       "│ e-P-1904-1… ┆             ┆        ┆          ┆   ┆          ┆           ┆           ┆           │\n",
       "└─────────────┴─────────────┴────────┴──────────┴───┴──────────┴───────────┴───────────┴───────────┘"
      ]
     },
     "execution_count": 4,
     "metadata": {},
     "output_type": "execute_result"
    }
   ],
   "source": [
    "embeddings_dict = {}\n",
    "for filename in os.listdir(pres_embeddings_directory):\n",
    "    if filename.endswith(\".npy\"):\n",
    "        file_path = os.path.join(pres_embeddings_directory, filename)\n",
    "        try:\n",
    "            # Read the numpy array from the file\n",
    "            embeddings = np.load(file_path)\n",
    "            # Extract the speaker ID from the filename (assuming the filename is in the format \"speaker_id.npy\")\n",
    "            speaker_id = os.path.splitext(filename)[0]\n",
    "            # Add the embeddings to the dictionary with speaker ID as the key\n",
    "            embeddings_dict[speaker_id] = embeddings\n",
    "        except Exception as e:\n",
    "            print(f\"Error reading embeddings from '{filename}': {str(e)}\")\n",
    "\n",
    "model = Model.from_pretrained(\"pyannote/embedding\", use_auth_token=hf_auth)\n",
    "inference = Inference(model, window=\"whole\")\n",
    "\n",
    "n = df.shape[0]\n",
    "for pres in embeddings_dict:\n",
    "    temp_column = []\n",
    "    print(pres)\n",
    "    for i in range(0, n):\n",
    "        file_path = split_audio_directory + df[i, 'file_id'] + \"_\" + str(round(df[i, 'start'], 3)) + \".wav\"\n",
    "        temp_embedding = inference(file_path)\n",
    "        distance = 1 - (np.matmul(temp_embedding, embeddings_dict[pres]) / (math.sqrt(np.matmul(temp_embedding, temp_embedding)) * math.sqrt(np.matmul(embeddings_dict[pres], embeddings_dict[pres])))) # cosine distance\n",
    "        temp_column.append(distance)\n",
    "    df = df.with_columns(pl.Series(name=pres, values=temp_column))\n",
    "\n",
    "df.head()"
   ]
  },
  {
   "cell_type": "code",
   "execution_count": 7,
   "id": "624cb750",
   "metadata": {},
   "outputs": [
    {
     "data": {
      "text/plain": [
       "(171, 18)"
      ]
     },
     "execution_count": 7,
     "metadata": {},
     "output_type": "execute_result"
    }
   ],
   "source": [
    "df.shape"
   ]
  },
  {
   "cell_type": "code",
   "execution_count": 19,
   "id": "9c013707",
   "metadata": {},
   "outputs": [
    {
     "name": "stdout",
     "output_type": "stream",
     "text": [
      "../data/ad_audio_split_testing/pres_trimmed_incl_scene-P-1904-108497_9.228.wav\n"
     ]
    }
   ],
   "source": [
    "i = 1\n",
    "file_path = split_audio_directory + df[i, 'file_id'] + \"_\" + str(round(df[i, 'start'], 3)) + \".wav\"\n",
    "print(file_path)\n",
    "temp_embedding = inference(file_path)"
   ]
  },
  {
   "cell_type": "code",
   "execution_count": 18,
   "id": "8e762542",
   "metadata": {},
   "outputs": [],
   "source": []
  }
 ],
 "metadata": {
  "kernelspec": {
   "display_name": "diss_env",
   "language": "python",
   "name": "python3"
  },
  "language_info": {
   "codemirror_mode": {
    "name": "ipython",
    "version": 3
   },
   "file_extension": ".py",
   "mimetype": "text/x-python",
   "name": "python",
   "nbconvert_exporter": "python",
   "pygments_lexer": "ipython3",
   "version": "3.9.7"
  }
 },
 "nbformat": 4,
 "nbformat_minor": 5
}
