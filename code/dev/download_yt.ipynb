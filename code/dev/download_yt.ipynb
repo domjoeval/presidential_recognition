{
 "cells": [
  {
   "attachments": {},
   "cell_type": "markdown",
   "id": "4d9c805f-2536-46ac-8f75-ea1ce6cda732",
   "metadata": {},
   "source": [
    "Compendium: https://www.presidency.ucsb.edu/documents/presidential-documents-archive-guidebook/presidential-campaigns-debates-and-endorsements-0\n",
    "Dem primary 2000: https://www.youtube.com/watch?v=a7hphwpsOlE\n",
    "Rep primary 2000: https://www.youtube.com/watch?v=gpQdELPv8r0\n",
    "Gen 2000: https://www.youtube.com/watch?v=uKDFcOfqGMQ\n",
    "Dem primary 2004: https://www.youtube.com/watch?v=p-dETACShwU\n",
    "Gen 2004: https://www.youtube.com/watch?v=WYpP-T0IcyA\n",
    "Dem primary 2008: https://www.youtube.com/watch?v=sA9MzhXtqos\n",
    "Rep primary 2008: https://www.youtube.com/watch?v=nSO8Bg4Dsuo\n",
    "Gen 2008: https://www.youtube.com/watch?v=F-nNIEduEOw\n",
    "Rep primary 2012: https://www.youtube.com/watch?v=8XAVHFGU9sU\n",
    "Gen 2012: https://www.youtube.com/watch?v=HxRQm-3bzf0\n",
    "Dem primary 2016: https://www.youtube.com/watch?v=7jK2eIpj6-c\n",
    "Rep primary 2016: https://www.youtube.com/watch?v=Un3OhYs-tCE\n",
    "Gen 2016: https://www.youtube.com/watch?v=LxhhOfe3uWc\n",
    "Dem primary 2020: https://www.youtube.com/watch?v=vJ6MrDO0kgY\n",
    "Gen 2020: https://www.youtube.com/watch?v=w3KxBME7DpM\n",
    "\n",
    "Replacements:\n",
    "Dem primary 2000: https://youtu.be/zS_WlG1aroY?list=PLOhV6evUDxLjlEMRG3nVR_cw_V4bl5UqO\n",
    "Dem primary 2004: \n"
   ]
  },
  {
   "cell_type": "code",
   "execution_count": 12,
   "id": "5ddeb93c",
   "metadata": {},
   "outputs": [
    {
     "name": "stdout",
     "output_type": "stream",
     "text": [
      "2\n",
      "3\n",
      "4\n",
      "5\n",
      "6\n",
      "7\n",
      "8\n",
      "9\n",
      "10\n",
      "11\n",
      "12\n",
      "13\n",
      "14\n",
      "15\n",
      "16\n"
     ]
    }
   ],
   "source": [
    "from pytube import YouTube\n",
    "\n",
    "links = [\"https://www.youtube.com/watch?v=a7hphwpsOlE\", \"https://www.youtube.com/watch?v=gpQdELPv8r0\", \"https://www.youtube.com/watch?v=uKDFcOfqGMQ\", \"https://www.youtube.com/watch?v=p-dETACShwU\", \"https://www.youtube.com/watch?v=WYpP-T0IcyA\", \"https://www.youtube.com/watch?v=sA9MzhXtqos\", \"https://www.youtube.com/watch?v=nSO8Bg4Dsuo\", \"https://www.youtube.com/watch?v=F-nNIEduEOw\", \"https://www.youtube.com/watch?v=8XAVHFGU9sU\", \"https://www.youtube.com/watch?v=HxRQm-3bzf0\", \"https://www.youtube.com/watch?v=7jK2eIpj6-c\", \"https://www.youtube.com/watch?v=Un3OhYs-tCE\", \"https://www.youtube.com/watch?v=LxhhOfe3uWc\", \"https://www.youtube.com/watch?v=vJ6MrDO0kgY\", \"https://www.youtube.com/watch?v=w3KxBME7DpM\"]\n",
    "\n",
    "i = 1\n",
    "for link in links:\n",
    "    YouTube(link).streams.filter(file_extension=\"mp4\", type=\"video\").first().download(output_path=\"../data/speech\")\n",
    "    i += 1\n",
    "    print(i)"
   ]
  },
  {
   "cell_type": "code",
   "execution_count": 5,
   "id": "91ffd998-c01d-406a-b458-9630450e238c",
   "metadata": {},
   "outputs": [],
   "source": [
    "yt = YouTube(\"https://www.youtube.com/watch?v=a7hphwpsOlE\")"
   ]
  },
  {
   "cell_type": "code",
   "execution_count": 8,
   "id": "9c013707",
   "metadata": {},
   "outputs": [
    {
     "data": {
      "text/plain": [
       "<Stream: itag=\"139\" mime_type=\"audio/mp4\" abr=\"48kbps\" acodec=\"mp4a.40.5\" progressive=\"False\" type=\"audio\">"
      ]
     },
     "execution_count": 8,
     "metadata": {},
     "output_type": "execute_result"
    }
   ],
   "source": [
    "yt.streams.filter(adaptive=True, type=\"audio\").first()"
   ]
  },
  {
   "cell_type": "code",
   "execution_count": 11,
   "id": "8e762542",
   "metadata": {},
   "outputs": [],
   "source": []
  },
  {
   "cell_type": "code",
   "execution_count": 12,
   "id": "2fce4542",
   "metadata": {},
   "outputs": [],
   "source": []
  },
  {
   "cell_type": "code",
   "execution_count": 13,
   "id": "e60ac8cf",
   "metadata": {},
   "outputs": [
    {
     "name": "stdout",
     "output_type": "stream",
     "text": [
      "['[', '00:00:25.998', '-->', '', '00:00:43.216]', 'D', 'SPEAKER_00']\n",
      "00:00:43.216\n"
     ]
    },
    {
     "data": {
      "text/plain": [
       "'SPEAKER_00'"
      ]
     },
     "execution_count": 13,
     "metadata": {},
     "output_type": "execute_result"
    }
   ],
   "source": []
  },
  {
   "cell_type": "code",
   "execution_count": null,
   "id": "c8dff05d",
   "metadata": {},
   "outputs": [
    {
     "ename": "",
     "evalue": "",
     "output_type": "error",
     "traceback": [
      "\u001b[1;31mCanceled future for execute_request message before replies were done"
     ]
    },
    {
     "ename": "",
     "evalue": "",
     "output_type": "error",
     "traceback": [
      "\u001b[1;31mThe Kernel crashed while executing code in the the current cell or a previous cell. Please review the code in the cell(s) to identify a possible cause of the failure. Click <a href='https://aka.ms/vscodeJupyterKernelCrash'>here</a> for more info. View Jupyter <a href='command:jupyter.viewOutput'>log</a> for further details."
     ]
    }
   ],
   "source": []
  }
 ],
 "metadata": {
  "kernelspec": {
   "display_name": "diss_env",
   "language": "python",
   "name": "python3"
  },
  "language_info": {
   "codemirror_mode": {
    "name": "ipython",
    "version": 3
   },
   "file_extension": ".py",
   "mimetype": "text/x-python",
   "name": "python",
   "nbconvert_exporter": "python",
   "pygments_lexer": "ipython3",
   "version": "3.9.7"
  }
 },
 "nbformat": 4,
 "nbformat_minor": 5
}
