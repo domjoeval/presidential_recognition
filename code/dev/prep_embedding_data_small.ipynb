{
 "cells": [
  {
   "attachments": {},
   "cell_type": "markdown",
   "id": "fcb8288b",
   "metadata": {},
   "source": [
    "Note: this file relies on prep_audio_validation.ipynb having been executed previously."
   ]
  },
  {
   "cell_type": "code",
   "execution_count": 1,
   "id": "5ddeb93c",
   "metadata": {},
   "outputs": [],
   "source": [
    "import os\n",
    "import polars as pl"
   ]
  },
  {
   "cell_type": "code",
   "execution_count": 11,
   "id": "91ffd998-c01d-406a-b458-9630450e238c",
   "metadata": {},
   "outputs": [
    {
     "data": {
      "text/html": [
       "<div><style>\n",
       ".dataframe > thead > tr,\n",
       ".dataframe > tbody > tr {\n",
       "  text-align: right;\n",
       "  white-space: pre-wrap;\n",
       "}\n",
       "</style>\n",
       "<small>shape: (5, 6)</small><table border=\"1\" class=\"dataframe\"><thead><tr><th>file_id</th><th>speaker_est</th><th>start</th><th>duration</th><th>end</th><th>speaker_val</th></tr><tr><td>str</td><td>str</td><td>f64</td><td>f64</td><td>f64</td><td>str</td></tr></thead><tbody><tr><td>&quot;gen_2000_debat…</td><td>&quot;SPEAKER_17&quot;</td><td>245.068</td><td>4.873</td><td>249.941</td><td>&quot;other&quot;</td></tr><tr><td>&quot;gen_2000_debat…</td><td>&quot;SPEAKER_16&quot;</td><td>250.552</td><td>25.908</td><td>276.46</td><td>&quot;gore&quot;</td></tr><tr><td>&quot;gen_2000_debat…</td><td>&quot;SPEAKER_16&quot;</td><td>277.852</td><td>11.053</td><td>288.905</td><td>&quot;gore&quot;</td></tr><tr><td>&quot;gen_2000_debat…</td><td>&quot;SPEAKER_16&quot;</td><td>289.584</td><td>24.278</td><td>313.862</td><td>&quot;gore&quot;</td></tr><tr><td>&quot;gen_2000_debat…</td><td>&quot;SPEAKER_16&quot;</td><td>314.27</td><td>4.261</td><td>318.53098</td><td>&quot;gore&quot;</td></tr></tbody></table></div>"
      ],
      "text/plain": [
       "shape: (5, 6)\n",
       "┌─────────────────┬─────────────┬─────────┬──────────┬───────────┬─────────────┐\n",
       "│ file_id         ┆ speaker_est ┆ start   ┆ duration ┆ end       ┆ speaker_val │\n",
       "│ ---             ┆ ---         ┆ ---     ┆ ---      ┆ ---       ┆ ---         │\n",
       "│ str             ┆ str         ┆ f64     ┆ f64      ┆ f64       ┆ str         │\n",
       "╞═════════════════╪═════════════╪═════════╪══════════╪═══════════╪═════════════╡\n",
       "│ gen_2000_debate ┆ SPEAKER_17  ┆ 245.068 ┆ 4.873    ┆ 249.941   ┆ other       │\n",
       "│ gen_2000_debate ┆ SPEAKER_16  ┆ 250.552 ┆ 25.908   ┆ 276.46    ┆ gore        │\n",
       "│ gen_2000_debate ┆ SPEAKER_16  ┆ 277.852 ┆ 11.053   ┆ 288.905   ┆ gore        │\n",
       "│ gen_2000_debate ┆ SPEAKER_16  ┆ 289.584 ┆ 24.278   ┆ 313.862   ┆ gore        │\n",
       "│ gen_2000_debate ┆ SPEAKER_16  ┆ 314.27  ┆ 4.261    ┆ 318.53098 ┆ gore        │\n",
       "└─────────────────┴─────────────┴─────────┴──────────┴───────────┴─────────────┘"
      ]
     },
     "execution_count": 11,
     "metadata": {},
     "output_type": "execute_result"
    }
   ],
   "source": [
    "df = pl.read_csv(\"../data/speech_validation_small.csv\")\n",
    "df.head()"
   ]
  },
  {
   "cell_type": "code",
   "execution_count": 12,
   "id": "e60ac8cf",
   "metadata": {},
   "outputs": [],
   "source": [
    "def select_samples(data, target_duration=120):\n",
    "    selected_samples = []\n",
    "\n",
    "    # Group the data by speaker\n",
    "    grouped_data = data.group_by('speaker_val')\n",
    "\n",
    "    for group_key, group in grouped_data:\n",
    "        # Shuffle the video clips for each speaker\n",
    "        group = group.sample(fraction=1)\n",
    "\n",
    "        cumulative_duration = 0\n",
    "        for row in group.rows(named = True):\n",
    "            # Add the video clip duration to the cumulative duration\n",
    "            cumulative_duration += row['duration']\n",
    "\n",
    "            # Append the selected sample to the result\n",
    "            selected_samples.append(row)\n",
    "\n",
    "            # Check if the cumulative duration exceeds the target duration\n",
    "            if cumulative_duration > target_duration:\n",
    "                break\n",
    "\n",
    "    # Convert the list of selected samples to a Polars DataFrame\n",
    "    selected_samples_df = pl.DataFrame(selected_samples)\n",
    "\n",
    "    return selected_samples_df"
   ]
  },
  {
   "cell_type": "code",
   "execution_count": 13,
   "id": "15f16948",
   "metadata": {},
   "outputs": [
    {
     "name": "stderr",
     "output_type": "stream",
     "text": [
      "/var/folders/bv/k0xccxcn6b15hwml87syxhv00000gn/T/ipykernel_64142/54793430.py:7: DeprecationWarning: `group_by` iteration will change to always return group identifiers as tuples. Pass `by` as a list to silence this warning, e.g. `group_by(['speaker_val'])`.\n",
      "  for group_key, group in grouped_data:\n"
     ]
    }
   ],
   "source": [
    "selected_samples_df = select_samples(df)"
   ]
  },
  {
   "cell_type": "code",
   "execution_count": 14,
   "id": "57694cb2",
   "metadata": {},
   "outputs": [],
   "source": [
    "selected_samples_df.write_csv(\"../data/embedding_data_small.csv\")"
   ]
  }
 ],
 "metadata": {
  "kernelspec": {
   "display_name": "diss_env",
   "language": "python",
   "name": "python3"
  },
  "language_info": {
   "codemirror_mode": {
    "name": "ipython",
    "version": 3
   },
   "file_extension": ".py",
   "mimetype": "text/x-python",
   "name": "python",
   "nbconvert_exporter": "python",
   "pygments_lexer": "ipython3",
   "version": "3.9.7"
  }
 },
 "nbformat": 4,
 "nbformat_minor": 5
}
