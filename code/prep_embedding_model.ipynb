{
 "cells": [
  {
   "cell_type": "code",
   "execution_count": 17,
   "id": "5ddeb93c",
   "metadata": {},
   "outputs": [],
   "source": [
    "import os\n",
    "import PIL\n",
    "from moviepy.editor import VideoFileClip, concatenate_videoclips\n",
    "import polars as pl"
   ]
  },
  {
   "cell_type": "code",
   "execution_count": 30,
   "id": "e60ac8cf",
   "metadata": {},
   "outputs": [],
   "source": [
    "def combine_videos(video_paths, output_path):\n",
    "    # Load video clips\n",
    "    video_clips = [VideoFileClip(path) for path in video_paths]\n",
    "\n",
    "    # Combine videos horizontally\n",
    "    final_clip = concatenate_videoclips(video_clips)\n",
    "\n",
    "    # Write the result to a file\n",
    "    final_clip.write_videofile(output_path, codec=\"libx264\", audio_codec=\"aac\")"
   ]
  },
  {
   "cell_type": "code",
   "execution_count": 19,
   "id": "15f16948",
   "metadata": {},
   "outputs": [],
   "source": [
    "selected_samples_path = '../data/embedding_data_small.csv'\n",
    "video_directory = '../data/speech_split/'\n",
    "output_directory = '../data/speech_embedding/'"
   ]
  },
  {
   "cell_type": "code",
   "execution_count": 20,
   "id": "8b7d1a4f",
   "metadata": {},
   "outputs": [
    {
     "data": {
      "text/html": [
       "<div><style>\n",
       ".dataframe > thead > tr,\n",
       ".dataframe > tbody > tr {\n",
       "  text-align: right;\n",
       "  white-space: pre-wrap;\n",
       "}\n",
       "</style>\n",
       "<small>shape: (5, 6)</small><table border=\"1\" class=\"dataframe\"><thead><tr><th>file_id</th><th>speaker_est</th><th>start</th><th>duration</th><th>end</th><th>speaker_val</th></tr><tr><td>str</td><td>str</td><td>f64</td><td>f64</td><td>f64</td><td>str</td></tr></thead><tbody><tr><td>&quot;gen_2012_debat…</td><td>&quot;SPEAKER_08&quot;</td><td>253.319</td><td>2.139</td><td>255.45801</td><td>&quot;obama&quot;</td></tr><tr><td>&quot;gen_2012_debat…</td><td>&quot;SPEAKER_08&quot;</td><td>255.781</td><td>6.214</td><td>261.995</td><td>&quot;obama&quot;</td></tr><tr><td>&quot;gen_2012_debat…</td><td>&quot;SPEAKER_08&quot;</td><td>262.742</td><td>0.543</td><td>263.285</td><td>&quot;obama&quot;</td></tr><tr><td>&quot;gen_2012_debat…</td><td>&quot;SPEAKER_08&quot;</td><td>263.659</td><td>8.693</td><td>272.352</td><td>&quot;obama&quot;</td></tr><tr><td>&quot;gen_2012_debat…</td><td>&quot;SPEAKER_08&quot;</td><td>272.946</td><td>6.689</td><td>279.635</td><td>&quot;obama&quot;</td></tr></tbody></table></div>"
      ],
      "text/plain": [
       "shape: (5, 6)\n",
       "┌─────────────────┬─────────────┬─────────┬──────────┬───────────┬─────────────┐\n",
       "│ file_id         ┆ speaker_est ┆ start   ┆ duration ┆ end       ┆ speaker_val │\n",
       "│ ---             ┆ ---         ┆ ---     ┆ ---      ┆ ---       ┆ ---         │\n",
       "│ str             ┆ str         ┆ f64     ┆ f64      ┆ f64       ┆ str         │\n",
       "╞═════════════════╪═════════════╪═════════╪══════════╪═══════════╪═════════════╡\n",
       "│ gen_2012_debate ┆ SPEAKER_08  ┆ 253.319 ┆ 2.139    ┆ 255.45801 ┆ obama       │\n",
       "│ gen_2012_debate ┆ SPEAKER_08  ┆ 255.781 ┆ 6.214    ┆ 261.995   ┆ obama       │\n",
       "│ gen_2012_debate ┆ SPEAKER_08  ┆ 262.742 ┆ 0.543    ┆ 263.285   ┆ obama       │\n",
       "│ gen_2012_debate ┆ SPEAKER_08  ┆ 263.659 ┆ 8.693    ┆ 272.352   ┆ obama       │\n",
       "│ gen_2012_debate ┆ SPEAKER_08  ┆ 272.946 ┆ 6.689    ┆ 279.635   ┆ obama       │\n",
       "└─────────────────┴─────────────┴─────────┴──────────┴───────────┴─────────────┘"
      ]
     },
     "execution_count": 20,
     "metadata": {},
     "output_type": "execute_result"
    }
   ],
   "source": [
    "df = pl.read_csv(selected_samples_path)\n",
    "df.head()"
   ]
  },
  {
   "cell_type": "code",
   "execution_count": 5,
   "metadata": {},
   "outputs": [
    {
     "name": "stdout",
     "output_type": "stream",
     "text": [
      "['multi', 'gore', 'mccain', 'trump', 'biden', 'obama', 'romney', 'kerry', 'clinton', 'other', 'bush']\n"
     ]
    }
   ],
   "source": [
    "speakers = list(filter(lambda x: x != 'inc', df.get_column('speaker_val').unique().to_list()))\n",
    "print(speakers)"
   ]
  },
  {
   "cell_type": "code",
   "execution_count": null,
   "id": "51b9eeaa",
   "metadata": {},
   "outputs": [],
   "source": [
    "for speaker in speakers:\n",
    "    print()\n",
    "    temp = df.filter(pl.col('speaker_val') == speaker).with_columns((pl.col('file_id') + pl.col('start').cast(pl.String) + '.mp4').alias('path'))\n",
    "    paths = [video_directory + s for s in temp.get_column('path').to_list()]\n",
    "    vid_speaker = temp.get_column('speaker_val').unique().item()\n",
    "    result = combine_videos(paths, output_directory + vid_speaker + '.mp4')"
   ]
  },
  {
   "cell_type": "code",
   "execution_count": 29,
   "id": "d344e41e",
   "metadata": {},
   "outputs": [
    {
     "name": "stdout",
     "output_type": "stream",
     "text": [
      "Moviepy - Building video ../data/speech_embedding/obama.mp4.\n",
      "MoviePy - Writing audio in obamaTEMP_MPY_wvf_snd.mp4\n"
     ]
    },
    {
     "name": "stderr",
     "output_type": "stream",
     "text": [
      "                                                                      \r"
     ]
    },
    {
     "name": "stdout",
     "output_type": "stream",
     "text": [
      "MoviePy - Done.\n",
      "Moviepy - Writing video ../data/speech_embedding/obama.mp4\n",
      "\n"
     ]
    },
    {
     "name": "stderr",
     "output_type": "stream",
     "text": [
      "                                                                 \r"
     ]
    },
    {
     "name": "stdout",
     "output_type": "stream",
     "text": [
      "Moviepy - Done !\n",
      "Moviepy - video ready ../data/speech_embedding/obama.mp4\n"
     ]
    }
   ],
   "source": [
    "# temp = df.filter(pl.col('speaker_val') == 'obama').with_columns((pl.col('file_id') + pl.col('start').cast(pl.String) + '.mp4').alias('path'))\n",
    "# paths = [video_directory + s for s in temp.get_column('path').to_list()]\n",
    "# vid_speaker = temp.get_column('speaker_val').unique().item()\n",
    "# result = combine_videos(paths, output_directory + vid_speaker + '.mp4')"
   ]
  }
 ],
 "metadata": {
  "kernelspec": {
   "display_name": "diss_env",
   "language": "python",
   "name": "python3"
  },
  "language_info": {
   "codemirror_mode": {
    "name": "ipython",
    "version": 3
   },
   "file_extension": ".py",
   "mimetype": "text/x-python",
   "name": "python",
   "nbconvert_exporter": "python",
   "pygments_lexer": "ipython3",
   "version": "3.9.7"
  }
 },
 "nbformat": 4,
 "nbformat_minor": 5
}
