{
 "cells": [
  {
   "cell_type": "code",
   "execution_count": 3,
   "id": "5ddeb93c",
   "metadata": {},
   "outputs": [],
   "source": [
    "import os\n",
    "import whisper\n",
    "import polars as pl\n",
    "from babel.dates import format_time"
   ]
  },
  {
   "cell_type": "code",
   "execution_count": 6,
   "id": "91ffd998-c01d-406a-b458-9630450e238c",
   "metadata": {},
   "outputs": [],
   "source": [
    "# Function to transcribe audio using OpenAI's transcription service\n",
    "def transcribe_audio(model, file_path):\n",
    "    with open(file_path, \"rb\") as audio_file:\n",
    "        transcription = client.audio.transcriptions.create(\n",
    "            model=\"whisper-1\", \n",
    "            file=audio_file, \n",
    "            response_format=\"srt\"\n",
    "        )\n",
    "        # Pass the transcription directly for processing\n",
    "        return process_transcription(transcription)\n",
    "        #return response  # Directly return the response, assuming it's the transcription text\n",
    "\n",
    "# Function to process the raw transcription into the desired format\n",
    "def process_transcription(transcription):\n",
    "    blocks = transcription.split('\\n\\n')\n",
    "    processed_lines = []\n",
    "    for block in blocks:\n",
    "        lines = block.split('\\n')\n",
    "        if len(lines) >= 3:\n",
    "            time_range = lines[1]\n",
    "            text = lines[2]\n",
    "            start_time = time_range.split(' --> ')[0]\n",
    "            # Convert the time format from \"00:00:00,000\" to \"0:00:00\"\n",
    "            formatted_start_time = format_time(start_time)\n",
    "            processed_line = f\"[{formatted_start_time}]{text}\"\n",
    "            processed_lines.append(processed_line)\n",
    "    return '\\n'.join(processed_lines)\n"
   ]
  },
  {
   "cell_type": "code",
   "execution_count": null,
   "id": "e60ac8cf",
   "metadata": {},
   "outputs": [],
   "source": [
    "\n",
    "transcribe_audio(client, file_path = \"../data/ad_audio_testing/pres_trimmed_incl_scene-P-1632-82726.wav\")"
   ]
  },
  {
   "cell_type": "code",
   "execution_count": 1,
   "id": "dac3d1db",
   "metadata": {},
   "outputs": [
    {
     "name": "stdout",
     "output_type": "stream",
     "text": [
      "/Users/dominicvalentino/Documents/Harvard/presidential_recognition/pr/lib/python3.9/site-packages/whisper/transcribe.py:126: UserWarning: FP16 is not supported on CPU; using FP32 instead\n",
      "  warnings.warn(\"FP16 is not supported on CPU; using FP32 instead\")\n",
      "[00:00.000 --> 00:02.960]  John McCain promised a clean campaign.\n",
      "[00:03.180 --> 00:05.420]  Then attacked Governor Bush with misleading ads.\n",
      "[00:05.420 --> 00:09.480]  McCain says he's the only candidate who can beat Gore on campaign finance.\n",
      "[00:09.600 --> 00:14.940]  But news investigations reveal McCain solicits money from lobbyists with interest before his committee\n",
      "[00:14.940 --> 00:17.700]  and pressures agencies on behalf of contributors.\n",
      "[00:18.100 --> 00:21.180]  He attacks special interests, but the Wall Street Journal reports\n",
      "[00:21.180 --> 00:23.800]  McCain's campaign is crawling with lobbyists.\n",
      "[00:23.960 --> 00:25.960]  His conservative hometown paper warns\n",
      "[00:25.960 --> 00:29.200]  it's time the rest of the nation learns about the McCain we know.\n",
      "[00:30.000 --> 00:59.980]  Thanks for watching.\n"
     ]
    }
   ],
   "source": [
    "!whisper \"../data/ad_audio_testing/pres_trimmed_incl_scene-P-1632-82726.wav\" --language en --model large"
   ]
  },
  {
   "cell_type": "code",
   "execution_count": 4,
   "id": "3536fe06",
   "metadata": {},
   "outputs": [
    {
     "name": "stderr",
     "output_type": "stream",
     "text": [
      "/Users/dominicvalentino/Documents/Harvard/presidential_recognition/pr/lib/python3.9/site-packages/whisper/transcribe.py:126: UserWarning: FP16 is not supported on CPU; using FP32 instead\n",
      "  warnings.warn(\"FP16 is not supported on CPU; using FP32 instead\")\n"
     ]
    },
    {
     "name": "stdout",
     "output_type": "stream",
     "text": [
      "{'text': \" John McCain promised a clean campaign. Then attacked Governor Bush with misleading ads. McCain says he's the only candidate who can beat Gore on campaign finance. But news investigations reveal McCain solicits money from lobbyists with interest before his committee and pressures agencies on behalf of contributors. He attacks special interests, but the Wall Street Journal reports McCain's campaign is crawling with lobbyists. His conservative hometown paper warns It's time the rest of the nation learns about the McCain we know. Thanks for watching.\", 'segments': [{'id': 0, 'seek': 0, 'start': 0.0, 'end': 2.96, 'text': ' John McCain promised a clean campaign.', 'tokens': [50365, 2619, 49725, 10768, 257, 2541, 5129, 13, 50513], 'temperature': 0.0, 'avg_logprob': -0.11165671599538703, 'compression_ratio': 1.669811320754717, 'no_speech_prob': 0.14629918336868286}, {'id': 1, 'seek': 0, 'start': 3.18, 'end': 5.42, 'text': ' Then attacked Governor Bush with misleading ads.', 'tokens': [50524, 1396, 12692, 14550, 15782, 365, 36429, 10342, 13, 50636], 'temperature': 0.0, 'avg_logprob': -0.11165671599538703, 'compression_ratio': 1.669811320754717, 'no_speech_prob': 0.14629918336868286}, {'id': 2, 'seek': 0, 'start': 5.5600000000000005, 'end': 9.46, 'text': \" McCain says he's the only candidate who can beat Gore on campaign finance.\", 'tokens': [50643, 49725, 1619, 415, 311, 264, 787, 11532, 567, 393, 4224, 45450, 322, 5129, 10719, 13, 50838], 'temperature': 0.0, 'avg_logprob': -0.11165671599538703, 'compression_ratio': 1.669811320754717, 'no_speech_prob': 0.14629918336868286}, {'id': 3, 'seek': 0, 'start': 9.58, 'end': 14.94, 'text': ' But news investigations reveal McCain solicits money from lobbyists with interest before his committee', 'tokens': [50844, 583, 2583, 25582, 10658, 49725, 23665, 1208, 1460, 490, 21067, 1751, 365, 1179, 949, 702, 7482, 51112], 'temperature': 0.0, 'avg_logprob': -0.11165671599538703, 'compression_ratio': 1.669811320754717, 'no_speech_prob': 0.14629918336868286}, {'id': 4, 'seek': 0, 'start': 14.94, 'end': 17.7, 'text': ' and pressures agencies on behalf of contributors.', 'tokens': [51112, 293, 23573, 9504, 322, 9490, 295, 45627, 13, 51250], 'temperature': 0.0, 'avg_logprob': -0.11165671599538703, 'compression_ratio': 1.669811320754717, 'no_speech_prob': 0.14629918336868286}, {'id': 5, 'seek': 0, 'start': 18.1, 'end': 21.18, 'text': ' He attacks special interests, but the Wall Street Journal reports', 'tokens': [51270, 634, 8122, 2121, 8847, 11, 457, 264, 9551, 7638, 16936, 7122, 51424], 'temperature': 0.0, 'avg_logprob': -0.11165671599538703, 'compression_ratio': 1.669811320754717, 'no_speech_prob': 0.14629918336868286}, {'id': 6, 'seek': 0, 'start': 21.18, 'end': 23.8, 'text': \" McCain's campaign is crawling with lobbyists.\", 'tokens': [51424, 49725, 311, 5129, 307, 32979, 365, 21067, 1751, 13, 51555], 'temperature': 0.0, 'avg_logprob': -0.11165671599538703, 'compression_ratio': 1.669811320754717, 'no_speech_prob': 0.14629918336868286}, {'id': 7, 'seek': 0, 'start': 23.94, 'end': 25.96, 'text': ' His conservative hometown paper warns', 'tokens': [51562, 2812, 13780, 22112, 3035, 12286, 82, 51663], 'temperature': 0.0, 'avg_logprob': -0.11165671599538703, 'compression_ratio': 1.669811320754717, 'no_speech_prob': 0.14629918336868286}, {'id': 8, 'seek': 0, 'start': 25.96, 'end': 29.22, 'text': \" It's time the rest of the nation learns about the McCain we know.\", 'tokens': [51663, 467, 311, 565, 264, 1472, 295, 264, 4790, 27152, 466, 264, 49725, 321, 458, 13, 51826], 'temperature': 0.0, 'avg_logprob': -0.11165671599538703, 'compression_ratio': 1.669811320754717, 'no_speech_prob': 0.14629918336868286}, {'id': 9, 'seek': 3000, 'start': 30.0, 'end': 59.980000000000004, 'text': ' Thanks for watching.', 'tokens': [50365, 2561, 337, 1976, 13, 51864], 'temperature': 0.0, 'avg_logprob': -0.23038458824157715, 'compression_ratio': 0.7142857142857143, 'no_speech_prob': 0.29891541600227356}], 'language': 'en'}\n"
     ]
    }
   ],
   "source": [
    "model = whisper.load_model(\"large\")\n",
    "result = model.transcribe(\"../data/ad_audio_testing/pres_trimmed_incl_scene-P-1632-82726.wav\")\n",
    "print(result['segments'])"
   ]
  },
  {
   "cell_type": "code",
   "execution_count": 5,
   "id": "32d354e6",
   "metadata": {},
   "outputs": [
    {
     "name": "stdout",
     "output_type": "stream",
     "text": [
      "[{'id': 0, 'seek': 0, 'start': 0.0, 'end': 2.96, 'text': ' John McCain promised a clean campaign.', 'tokens': [50365, 2619, 49725, 10768, 257, 2541, 5129, 13, 50513], 'temperature': 0.0, 'avg_logprob': -0.11165671599538703, 'compression_ratio': 1.669811320754717, 'no_speech_prob': 0.14629918336868286}, {'id': 1, 'seek': 0, 'start': 3.18, 'end': 5.42, 'text': ' Then attacked Governor Bush with misleading ads.', 'tokens': [50524, 1396, 12692, 14550, 15782, 365, 36429, 10342, 13, 50636], 'temperature': 0.0, 'avg_logprob': -0.11165671599538703, 'compression_ratio': 1.669811320754717, 'no_speech_prob': 0.14629918336868286}, {'id': 2, 'seek': 0, 'start': 5.5600000000000005, 'end': 9.46, 'text': \" McCain says he's the only candidate who can beat Gore on campaign finance.\", 'tokens': [50643, 49725, 1619, 415, 311, 264, 787, 11532, 567, 393, 4224, 45450, 322, 5129, 10719, 13, 50838], 'temperature': 0.0, 'avg_logprob': -0.11165671599538703, 'compression_ratio': 1.669811320754717, 'no_speech_prob': 0.14629918336868286}, {'id': 3, 'seek': 0, 'start': 9.58, 'end': 14.94, 'text': ' But news investigations reveal McCain solicits money from lobbyists with interest before his committee', 'tokens': [50844, 583, 2583, 25582, 10658, 49725, 23665, 1208, 1460, 490, 21067, 1751, 365, 1179, 949, 702, 7482, 51112], 'temperature': 0.0, 'avg_logprob': -0.11165671599538703, 'compression_ratio': 1.669811320754717, 'no_speech_prob': 0.14629918336868286}, {'id': 4, 'seek': 0, 'start': 14.94, 'end': 17.7, 'text': ' and pressures agencies on behalf of contributors.', 'tokens': [51112, 293, 23573, 9504, 322, 9490, 295, 45627, 13, 51250], 'temperature': 0.0, 'avg_logprob': -0.11165671599538703, 'compression_ratio': 1.669811320754717, 'no_speech_prob': 0.14629918336868286}, {'id': 5, 'seek': 0, 'start': 18.1, 'end': 21.18, 'text': ' He attacks special interests, but the Wall Street Journal reports', 'tokens': [51270, 634, 8122, 2121, 8847, 11, 457, 264, 9551, 7638, 16936, 7122, 51424], 'temperature': 0.0, 'avg_logprob': -0.11165671599538703, 'compression_ratio': 1.669811320754717, 'no_speech_prob': 0.14629918336868286}, {'id': 6, 'seek': 0, 'start': 21.18, 'end': 23.8, 'text': \" McCain's campaign is crawling with lobbyists.\", 'tokens': [51424, 49725, 311, 5129, 307, 32979, 365, 21067, 1751, 13, 51555], 'temperature': 0.0, 'avg_logprob': -0.11165671599538703, 'compression_ratio': 1.669811320754717, 'no_speech_prob': 0.14629918336868286}, {'id': 7, 'seek': 0, 'start': 23.94, 'end': 25.96, 'text': ' His conservative hometown paper warns', 'tokens': [51562, 2812, 13780, 22112, 3035, 12286, 82, 51663], 'temperature': 0.0, 'avg_logprob': -0.11165671599538703, 'compression_ratio': 1.669811320754717, 'no_speech_prob': 0.14629918336868286}, {'id': 8, 'seek': 0, 'start': 25.96, 'end': 29.22, 'text': \" It's time the rest of the nation learns about the McCain we know.\", 'tokens': [51663, 467, 311, 565, 264, 1472, 295, 264, 4790, 27152, 466, 264, 49725, 321, 458, 13, 51826], 'temperature': 0.0, 'avg_logprob': -0.11165671599538703, 'compression_ratio': 1.669811320754717, 'no_speech_prob': 0.14629918336868286}, {'id': 9, 'seek': 3000, 'start': 30.0, 'end': 59.980000000000004, 'text': ' Thanks for watching.', 'tokens': [50365, 2561, 337, 1976, 13, 51864], 'temperature': 0.0, 'avg_logprob': -0.23038458824157715, 'compression_ratio': 0.7142857142857143, 'no_speech_prob': 0.29891541600227356}]\n"
     ]
    }
   ],
   "source": [
    "print(result['segments'])"
   ]
  }
 ],
 "metadata": {
  "kernelspec": {
   "display_name": "diss_env",
   "language": "python",
   "name": "python3"
  },
  "language_info": {
   "codemirror_mode": {
    "name": "ipython",
    "version": 3
   },
   "file_extension": ".py",
   "mimetype": "text/x-python",
   "name": "python",
   "nbconvert_exporter": "python",
   "pygments_lexer": "ipython3",
   "version": "3.9.7"
  }
 },
 "nbformat": 4,
 "nbformat_minor": 5
}
