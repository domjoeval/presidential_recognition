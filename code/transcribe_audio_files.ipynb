{
 "cells": [
  {
   "cell_type": "code",
   "execution_count": 19,
   "id": "5ddeb93c",
   "metadata": {},
   "outputs": [],
   "source": [
    "import os\n",
    "import whisper\n",
    "import polars as pl\n",
    "import pickle\n",
    "from babel.dates import format_time"
   ]
  },
  {
   "cell_type": "code",
   "execution_count": 20,
   "id": "91ffd998-c01d-406a-b458-9630450e238c",
   "metadata": {},
   "outputs": [],
   "source": [
    "# Function to transcribe audio using OpenAI's transcription service\n",
    "def transcribe_audio(model, audio_path, transcript_path, df):\n",
    "    n = df.shape[0]\n",
    "    temp_column = []\n",
    "    for i in range(0, n):\n",
    "        print(\"Processing segment \" + chr(i) + \" of \" + chr(n))\n",
    "        file_path = audio_path + \"/\" + df[i, 'file_id'] + \"_\" + str(round(df[i, 'start'], 3)) + \".wav\"\n",
    "        result = model.transcribe(file_path)\n",
    "        temp_column.append(result['text']) # add transcript text to column to add to df\n",
    "        with open(transcript_path + \"/\" + df[i, 'file_id'] + \"_\" + str(round(df[i, 'start'], 3)), \"wb\") as fp:   # pickling full transcript data\n",
    "            pickle.dump(result, fp)\n",
    "        print(\"Segment \" + i + \" of \" + n + \" complete\")\n",
    "    df = df.with_columns(pl.Series(name=\"transcript\", values=temp_column))\n",
    "    return(df)\n"
   ]
  },
  {
   "cell_type": "code",
   "execution_count": null,
   "id": "e60ac8cf",
   "metadata": {},
   "outputs": [],
   "source": []
  },
  {
   "cell_type": "code",
   "execution_count": 14,
   "id": "dac3d1db",
   "metadata": {},
   "outputs": [
    {
     "name": "stdout",
     "output_type": "stream",
     "text": [
      "shape: (2, 7)\n",
      "┌──────────────────────────────┬─────────────┬────────┬──────────┬───────────┬─────────────┬───────┐\n",
      "│ file_id                      ┆ speaker_est ┆ start  ┆ duration ┆ end       ┆ speaker_val ┆ notes │\n",
      "│ ---                          ┆ ---         ┆ ---    ┆ ---      ┆ ---       ┆ ---         ┆ ---   │\n",
      "│ str                          ┆ str         ┆ f64    ┆ f64      ┆ f64       ┆ str         ┆ str   │\n",
      "╞══════════════════════════════╪═════════════╪════════╪══════════╪═══════════╪═════════════╪═══════╡\n",
      "│ pres_trimmed_incl_scene-P-19 ┆ SPEAKER_03  ┆ 33.998 ┆ 8.472    ┆ 42.47     ┆ other       ┆ null  │\n",
      "│ 04-1…                        ┆             ┆        ┆          ┆           ┆             ┆       │\n",
      "│ pres_trimmed_incl_scene-P-19 ┆ SPEAKER_02  ┆ 42.47  ┆ 2.088    ┆ 44.558002 ┆ biden       ┆ null  │\n",
      "│ 04-1…                        ┆             ┆        ┆          ┆           ┆             ┆       │\n",
      "└──────────────────────────────┴─────────────┴────────┴──────────┴───────────┴─────────────┴───────┘\n"
     ]
    }
   ],
   "source": [
    "df = pl.read_csv(\"../data/ad_validation_initial.csv\")\n",
    "df_test = df[6:8]\n",
    "print(df_test)"
   ]
  },
  {
   "cell_type": "code",
   "execution_count": 21,
   "id": "3536fe06",
   "metadata": {},
   "outputs": [
    {
     "ename": "TypeError",
     "evalue": "can only concatenate str (not \"int\") to str",
     "output_type": "error",
     "traceback": [
      "\u001b[0;31m---------------------------------------------------------------------------\u001b[0m",
      "\u001b[0;31mTypeError\u001b[0m                                 Traceback (most recent call last)",
      "Cell \u001b[0;32mIn[21], line 2\u001b[0m\n\u001b[1;32m      1\u001b[0m model \u001b[39m=\u001b[39m whisper\u001b[39m.\u001b[39mload_model(\u001b[39m\"\u001b[39m\u001b[39mlarge\u001b[39m\u001b[39m\"\u001b[39m)\n\u001b[0;32m----> 2\u001b[0m transcribe_audio(model, \u001b[39m\"\u001b[39;49m\u001b[39m../data/ad_audio_split_testing\u001b[39;49m\u001b[39m\"\u001b[39;49m, \u001b[39m\"\u001b[39;49m\u001b[39m../data/ad_transcripts_testing\u001b[39;49m\u001b[39m\"\u001b[39;49m, df_test)\n",
      "Cell \u001b[0;32mIn[20], line 6\u001b[0m, in \u001b[0;36mtranscribe_audio\u001b[0;34m(model, audio_path, transcript_path, df)\u001b[0m\n\u001b[1;32m      4\u001b[0m temp_column \u001b[39m=\u001b[39m []\n\u001b[1;32m      5\u001b[0m \u001b[39mfor\u001b[39;00m i \u001b[39min\u001b[39;00m \u001b[39mrange\u001b[39m(\u001b[39m0\u001b[39m, n):\n\u001b[0;32m----> 6\u001b[0m     \u001b[39mprint\u001b[39m(\u001b[39m\"\u001b[39;49m\u001b[39mProcessing segment \u001b[39;49m\u001b[39m\"\u001b[39;49m \u001b[39m+\u001b[39;49m i \u001b[39m+\u001b[39m \u001b[39m\"\u001b[39m\u001b[39m of \u001b[39m\u001b[39m\"\u001b[39m \u001b[39m+\u001b[39m n)\n\u001b[1;32m      7\u001b[0m     file_path \u001b[39m=\u001b[39m audio_path \u001b[39m+\u001b[39m \u001b[39m\"\u001b[39m\u001b[39m/\u001b[39m\u001b[39m\"\u001b[39m \u001b[39m+\u001b[39m df[i, \u001b[39m'\u001b[39m\u001b[39mfile_id\u001b[39m\u001b[39m'\u001b[39m] \u001b[39m+\u001b[39m \u001b[39m\"\u001b[39m\u001b[39m_\u001b[39m\u001b[39m\"\u001b[39m \u001b[39m+\u001b[39m \u001b[39mstr\u001b[39m(\u001b[39mround\u001b[39m(df[i, \u001b[39m'\u001b[39m\u001b[39mstart\u001b[39m\u001b[39m'\u001b[39m], \u001b[39m3\u001b[39m)) \u001b[39m+\u001b[39m \u001b[39m\"\u001b[39m\u001b[39m.wav\u001b[39m\u001b[39m\"\u001b[39m\n\u001b[1;32m      8\u001b[0m     result \u001b[39m=\u001b[39m model\u001b[39m.\u001b[39mtranscribe(file_path)\n",
      "\u001b[0;31mTypeError\u001b[0m: can only concatenate str (not \"int\") to str"
     ]
    }
   ],
   "source": [
    "model = whisper.load_model(\"large\")\n",
    "transcribe_audio(model, \"../data/ad_audio_split_testing\", \"../data/ad_transcripts_testing\", df_test)"
   ]
  },
  {
   "cell_type": "code",
   "execution_count": null,
   "id": "2c5309d1",
   "metadata": {},
   "outputs": [],
   "source": []
  }
 ],
 "metadata": {
  "kernelspec": {
   "display_name": "diss_env",
   "language": "python",
   "name": "python3"
  },
  "language_info": {
   "codemirror_mode": {
    "name": "ipython",
    "version": 3
   },
   "file_extension": ".py",
   "mimetype": "text/x-python",
   "name": "python",
   "nbconvert_exporter": "python",
   "pygments_lexer": "ipython3",
   "version": "3.9.7"
  }
 },
 "nbformat": 4,
 "nbformat_minor": 5
}
