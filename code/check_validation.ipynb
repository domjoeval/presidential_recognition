{
 "cells": [
  {
   "cell_type": "code",
   "execution_count": 18,
   "id": "5ddeb93c",
   "metadata": {},
   "outputs": [],
   "source": [
    "import os\n",
    "import polars as pl\n",
    "import numpy as np\n",
    "from pathlib import Path"
   ]
  },
  {
   "cell_type": "code",
   "execution_count": null,
   "id": "91ffd998-c01d-406a-b458-9630450e238c",
   "metadata": {},
   "outputs": [],
   "source": [
    "os.getcwd()\n",
    "\n",
    "df = pl.read_csv(\"../data/ad_validation.csv\")\n",
    "df"
   ]
  },
  {
   "cell_type": "code",
   "execution_count": null,
   "id": "273be14f",
   "metadata": {},
   "outputs": [],
   "source": [
    "embeddings = os.listdir('../data/speech_embedding_models/')\n",
    "# load all the embeddings and put them in a dictionary \n",
    "candidates_dict = {}\n",
    "for embedding in embeddings:\n",
    "    if embedding.endswith(\".npy\"):\n",
    "        temp = np.load('../data/speech_embedding_models/' + embedding)\n",
    "        cand = Path(file).stem\n",
    "        candidates_dict[cand] = temp\n",
    "print(candidates_dict)"
   ]
  },
  {
   "cell_type": "code",
   "execution_count": null,
   "id": "e52fe6a4",
   "metadata": {},
   "outputs": [],
   "source": [
    "files = df['file_id'].unique().to_list()\n",
    "for FILE in FILES:\n",
    "    for SEGMENT in SEGMENTS:\n",
    "        for cand in candidates_dict:"
   ]
  },
  {
   "cell_type": "code",
   "execution_count": 6,
   "id": "9c013707",
   "metadata": {},
   "outputs": [],
   "source": [
    "df = (\n",
    "    result_df\n",
    "    .select(pl.col(\"FileID\", \"SpeakerID\"), pl.col(\"StartTime\", \"Duration\").cast(pl.Float32))\n",
    "    .rename({\"FileID\": \"file_id\", \"StartTime\": \"start\", \"Duration\": \"duration\", \"SpeakerID\": \"speaker_est\"})\n",
    "    .with_columns((pl.col(\"start\") + pl.col(\"duration\")).alias(\"end\"))\n",
    ")"
   ]
  },
  {
   "cell_type": "code",
   "execution_count": null,
   "id": "8e762542",
   "metadata": {},
   "outputs": [],
   "source": [
    "df.head()"
   ]
  },
  {
   "cell_type": "code",
   "execution_count": 9,
   "id": "2fce4542",
   "metadata": {},
   "outputs": [],
   "source": [
    "df.write_csv(\"../data/ad_validation.csv\")"
   ]
  }
 ],
 "metadata": {
  "kernelspec": {
   "display_name": "diss_env",
   "language": "python",
   "name": "python3"
  },
  "language_info": {
   "codemirror_mode": {
    "name": "ipython",
    "version": 3
   },
   "file_extension": ".py",
   "mimetype": "text/x-python",
   "name": "python",
   "nbconvert_exporter": "python",
   "pygments_lexer": "ipython3",
   "version": "3.9.7"
  }
 },
 "nbformat": 4,
 "nbformat_minor": 5
}
