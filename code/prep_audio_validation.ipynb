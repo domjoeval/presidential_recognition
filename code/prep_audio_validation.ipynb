{
 "cells": [
  {
   "cell_type": "code",
   "execution_count": 27,
   "id": "5ddeb93c",
   "metadata": {},
   "outputs": [],
   "source": [
    "import os\n",
    "import polars as pl\n",
    "\n",
    "def read_rttm_file(file_path):\n",
    "    # Read an RTTM file and return its content as a DataFrame\n",
    "    columns = [\"Type\", \"FileID\", \"Channel\", \"StartTime\", \"Duration\", \"SpeakerType\", \"Confidence\", \"SpeakerID\", \"Signal\"]\n",
    "\n",
    "    with open(file_path, 'r') as file:\n",
    "        lines = file.readlines()\n",
    "\n",
    "    data = [line.strip().split()[:9] for line in lines]\n",
    "    df = pl.DataFrame(data, schema=columns)\n",
    "\n",
    "    return df\n",
    "\n",
    "def combine_rttm_files(directory_path):\n",
    "    # Combine all RTTM files in a directory into a single DataFrame\n",
    "    all_dataframes = []\n",
    "\n",
    "    for filename in os.listdir(directory_path):\n",
    "        if filename.endswith(\".rttm\"):\n",
    "            file_path = os.path.join(directory_path, filename)\n",
    "            df = read_rttm_file(file_path)\n",
    "            all_dataframes.append(df)\n",
    "\n",
    "    if not all_dataframes:\n",
    "        print(\"No .rttm files found in the specified directory.\")\n",
    "        return None\n",
    "\n",
    "    combined_df = pl.concat(all_dataframes)\n",
    "    return combined_df"
   ]
  },
  {
   "cell_type": "code",
   "execution_count": 28,
   "id": "91ffd998-c01d-406a-b458-9630450e238c",
   "metadata": {},
   "outputs": [
    {
     "name": "stdout",
     "output_type": "stream",
     "text": [
      "shape: (5, 9)\n",
      "┌─────────┬─────────────┬─────────┬───────────┬───┬─────────────┬────────────┬────────────┬────────┐\n",
      "│ Type    ┆ FileID      ┆ Channel ┆ StartTime ┆ … ┆ SpeakerType ┆ Confidence ┆ SpeakerID  ┆ Signal │\n",
      "│ ---     ┆ ---         ┆ ---     ┆ ---       ┆   ┆ ---         ┆ ---        ┆ ---        ┆ ---    │\n",
      "│ str     ┆ str         ┆ str     ┆ str       ┆   ┆ str         ┆ str        ┆ str        ┆ str    │\n",
      "╞═════════╪═════════════╪═════════╪═══════════╪═══╪═════════════╪════════════╪════════════╪════════╡\n",
      "│ SPEAKER ┆ Bush_vs_Gor ┆ 1       ┆ 7.513     ┆ … ┆ <NA>        ┆ <NA>       ┆ SPEAKER_02 ┆ <NA>   │\n",
      "│         ┆ e_The_third ┆         ┆           ┆   ┆             ┆            ┆            ┆        │\n",
      "│         ┆ _2000_pres… ┆         ┆           ┆   ┆             ┆            ┆            ┆        │\n",
      "│ SPEAKER ┆ Bush_vs_Gor ┆ 1       ┆ 19.194    ┆ … ┆ <NA>        ┆ <NA>       ┆ SPEAKER_02 ┆ <NA>   │\n",
      "│         ┆ e_The_third ┆         ┆           ┆   ┆             ┆            ┆            ┆        │\n",
      "│         ┆ _2000_pres… ┆         ┆           ┆   ┆             ┆            ┆            ┆        │\n",
      "│ SPEAKER ┆ Bush_vs_Gor ┆ 1       ┆ 32.555    ┆ … ┆ <NA>        ┆ <NA>       ┆ SPEAKER_16 ┆ <NA>   │\n",
      "│         ┆ e_The_third ┆         ┆           ┆   ┆             ┆            ┆            ┆        │\n",
      "│         ┆ _2000_pres… ┆         ┆           ┆   ┆             ┆            ┆            ┆        │\n",
      "│ SPEAKER ┆ Bush_vs_Gor ┆ 1       ┆ 32.759    ┆ … ┆ <NA>        ┆ <NA>       ┆ SPEAKER_05 ┆ <NA>   │\n",
      "│         ┆ e_The_third ┆         ┆           ┆   ┆             ┆            ┆            ┆        │\n",
      "│         ┆ _2000_pres… ┆         ┆           ┆   ┆             ┆            ┆            ┆        │\n",
      "│ SPEAKER ┆ Bush_vs_Gor ┆ 1       ┆ 34.032    ┆ … ┆ <NA>        ┆ <NA>       ┆ SPEAKER_05 ┆ <NA>   │\n",
      "│         ┆ e_The_third ┆         ┆           ┆   ┆             ┆            ┆            ┆        │\n",
      "│         ┆ _2000_pres… ┆         ┆           ┆   ┆             ┆            ┆            ┆        │\n",
      "└─────────┴─────────────┴─────────┴───────────┴───┴─────────────┴────────────┴────────────┴────────┘\n"
     ]
    }
   ],
   "source": [
    "# Example usage:\n",
    "directory_path = \"../data/speech_audio_diarized\"\n",
    "result_df = combine_rttm_files(directory_path)\n",
    "\n",
    "# If result_df is not None, you can now work with the combined DataFrame.\n",
    "if result_df is not None:\n",
    "    print(result_df.head())\n",
    "    # Perform any additional operations on the DataFrame as needed."
   ]
  },
  {
   "cell_type": "code",
   "execution_count": 33,
   "id": "9c013707",
   "metadata": {},
   "outputs": [],
   "source": [
    "df = (\n",
    "    result_df\n",
    "    .select(pl.col(\"FileID\", \"SpeakerID\"), pl.col(\"StartTime\", \"Duration\").cast(pl.Float32))\n",
    "    .rename({\"FileID\": \"file_id\", \"StartTime\": \"start\", \"Duration\": \"duration\", \"SpeakerID\": \"speaker_est\"})\n",
    "    .with_columns((pl.col(\"start\") + pl.col(\"duration\")).alias(\"end\"))\n",
    ")"
   ]
  },
  {
   "cell_type": "code",
   "execution_count": 39,
   "id": "8e762542",
   "metadata": {},
   "outputs": [
    {
     "data": {
      "text/plain": [
       "(13090, 5)"
      ]
     },
     "execution_count": 39,
     "metadata": {},
     "output_type": "execute_result"
    }
   ],
   "source": [
    "df.head()\n",
    "df.shape"
   ]
  },
  {
   "cell_type": "code",
   "execution_count": 41,
   "id": "2fce4542",
   "metadata": {},
   "outputs": [],
   "source": [
    "df.write_csv(\"../data/speech_validation.csv\")"
   ]
  },
  {
   "cell_type": "code",
   "execution_count": null,
   "id": "e60ac8cf",
   "metadata": {},
   "outputs": [],
   "source": []
  },
  {
   "cell_type": "code",
   "execution_count": null,
   "id": "c8dff05d",
   "metadata": {},
   "outputs": [],
   "source": []
  }
 ],
 "metadata": {
  "kernelspec": {
   "display_name": "diss_env",
   "language": "python",
   "name": "python3"
  },
  "language_info": {
   "codemirror_mode": {
    "name": "ipython",
    "version": 3
   },
   "file_extension": ".py",
   "mimetype": "text/x-python",
   "name": "python",
   "nbconvert_exporter": "python",
   "pygments_lexer": "ipython3",
   "version": "3.9.7"
  }
 },
 "nbformat": 4,
 "nbformat_minor": 5
}
