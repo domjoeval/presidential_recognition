{
 "cells": [
  {
   "attachments": {},
   "cell_type": "markdown",
   "id": "fcb8288b",
   "metadata": {},
   "source": [
    "Note: this file relies on prep_audio_validation.ipynb having been executed previously."
   ]
  },
  {
   "cell_type": "code",
   "execution_count": 2,
   "id": "5ddeb93c",
   "metadata": {},
   "outputs": [],
   "source": [
    "import os\n",
    "import polars as pl"
   ]
  },
  {
   "cell_type": "code",
   "execution_count": 3,
   "id": "91ffd998-c01d-406a-b458-9630450e238c",
   "metadata": {},
   "outputs": [],
   "source": [
    "df = pl.read_csv(\"../data/speech_validation.csv\")"
   ]
  },
  {
   "cell_type": "code",
   "execution_count": 8,
   "id": "e60ac8cf",
   "metadata": {},
   "outputs": [],
   "source": [
    "df_small = (\n",
    "    df\n",
    "    # .filter((pl.col(\"file_id\") == \"dem_2000_debate\") & (pl.col(\"start\") > 70) & (pl.col(\"start\") < 300))\n",
    "    # .filter((pl.col(\"file_id\") == \"dem_2004_debate\") & (pl.col(\"start\") > 275) & (pl.col(\"start\") < 1155))\n",
    "    # .filter((pl.col(\"file_id\") == \"dem_2008_debate\") & (pl.col(\"start\") > 263) & (pl.col(\"start\") < 840))\n",
    "    # .filter((pl.col(\"file_id\") == \"dem_2016_debate\") & (pl.col(\"start\") > 75) & (pl.col(\"start\") < 220))\n",
    "    # .filter((pl.col(\"file_id\") == \"dem_2020_debate\") & (pl.col(\"start\") > 150) & (pl.col(\"start\") < 220)) # need different debate, later in season\n",
    "    .filter(((pl.col(\"file_id\") == \"gen_2000_debate\") & (pl.col(\"start\") > 240) & (pl.col(\"start\") < 510)) | \n",
    "            ((pl.col(\"file_id\") == \"gen_2004_debate\") & (pl.col(\"start\") > 120) & (pl.col(\"start\") < 495)) | \n",
    "            ((pl.col(\"file_id\") == \"gen_2008_debate\") & (pl.col(\"start\") > 145) & (pl.col(\"start\") < 600)) | \n",
    "            ((pl.col(\"file_id\") == \"gen_2012_debate\") & (pl.col(\"start\") > 120) & (pl.col(\"start\") < 1000)) |\n",
    "            ((pl.col(\"file_id\") == \"gen_2016_debate\") & (pl.col(\"start\") > 170) & (pl.col(\"start\") < 420)) | \n",
    "            ((pl.col(\"file_id\") == \"gen_2020_debate\") & (pl.col(\"start\") > 390) & (pl.col(\"start\") < 746)))\n",
    ")"
   ]
  },
  {
   "cell_type": "code",
   "execution_count": null,
   "id": "57694cb2",
   "metadata": {},
   "outputs": [],
   "source": [
    "pl.write_csv(\"../data/speech_validation_small.csv\")"
   ]
  }
 ],
 "metadata": {
  "kernelspec": {
   "display_name": "diss_env",
   "language": "python",
   "name": "python3"
  },
  "language_info": {
   "codemirror_mode": {
    "name": "ipython",
    "version": 3
   },
   "file_extension": ".py",
   "mimetype": "text/x-python",
   "name": "python",
   "nbconvert_exporter": "python",
   "pygments_lexer": "ipython3",
   "version": "3.9.7"
  }
 },
 "nbformat": 4,
 "nbformat_minor": 5
}
