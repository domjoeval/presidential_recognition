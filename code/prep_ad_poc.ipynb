{
 "cells": [
  {
   "cell_type": "code",
   "execution_count": 15,
   "id": "5ddeb93c",
   "metadata": {},
   "outputs": [],
   "source": [
    "import os\n",
    "import polars as pl\n",
    "import seaborn as sns"
   ]
  },
  {
   "cell_type": "code",
   "execution_count": null,
   "id": "91ffd998-c01d-406a-b458-9630450e238c",
   "metadata": {},
   "outputs": [],
   "source": [
    "df = (\n",
    "    pl.read_csv(\"../data/ad_data/MASTER_CSV_01252023_based12062022_WITH_INFERRED_INTROOUTRO_V5_2023-1-11_withWHISPERlargev3.csv\",\n",
    "                 infer_schema_length=int(1e10))\n",
    "    .filter(pl.col('ELECTION_YEAR') >= 2000)\n",
    "    .filter(pl.col('LAST_NAME').is_in(['Bush', 'Gore', 'Kerry', 'McCain', 'Obama', 'Romney', 'Trump', 'Clinton', 'Biden']))\n",
    ")\n",
    "df.head()"
   ]
  },
  {
   "cell_type": "code",
   "execution_count": null,
   "id": "e60ac8cf",
   "metadata": {},
   "outputs": [],
   "source": [
    "df.select(pl.col('OFFICE')).unique().item()\n",
    "df.select(pl.col('LAST_NAME')).unique()"
   ]
  },
  {
   "cell_type": "code",
   "execution_count": 17,
   "id": "b5df35b9",
   "metadata": {},
   "outputs": [
    {
     "data": {
      "text/plain": [
       "<Axes: xlabel='duration_inferred_incl_scene', ylabel='Count'>"
      ]
     },
     "execution_count": 17,
     "metadata": {},
     "output_type": "execute_result"
    },
    {
     "data": {
      "image/png": "[encoded data removed]",
      "text/plain": [
       "<Figure size 640x480 with 1 Axes>"
      ]
     },
     "metadata": {},
     "output_type": "display_data"
    }
   ],
   "source": [
    "sns.histplot(data = df, x = 'duration_inferred_incl_scene')"
   ]
  },
  {
   "cell_type": "code",
   "execution_count": 26,
   "id": "8758cf3b",
   "metadata": {},
   "outputs": [
    {
     "data": {
      "text/plain": [
       "['P-1632-82726',\n",
       " 'P-602-114512',\n",
       " 'P-2115-141435',\n",
       " 'P-1956-132356',\n",
       " 'P-1952-132081',\n",
       " 'P-1902-108407',\n",
       " 'P-2121-141893',\n",
       " 'P-1904-108530',\n",
       " 'P-1826-103345',\n",
       " 'P-1904-108497',\n",
       " 'P-1750-100546',\n",
       " 'P-1953-132121',\n",
       " 'P-1954-132194',\n",
       " 'P-710-119160',\n",
       " 'P-1904-108528',\n",
       " 'P-1826-103358',\n",
       " 'P-1904-108490',\n",
       " 'P-1906-108627',\n",
       " 'P-1903-108466',\n",
       " 'P-1799-102591',\n",
       " 'P-2121-141892',\n",
       " 'P-1840-104205',\n",
       " 'P-1958-132500',\n",
       " 'P-1906-108619',\n",
       " 'P-1909-108855',\n",
       " 'P-1827-103413',\n",
       " 'P-1958-132458',\n",
       " 'P-1954-132185',\n",
       " 'P-710-119151',\n",
       " 'P-1952-132044',\n",
       " 'P-2122-141980',\n",
       " 'P-1959-132561',\n",
       " 'P-2122-141953',\n",
       " 'P-2013-136181',\n",
       " 'P-1826-103327',\n",
       " 'P-1631-82832',\n",
       " 'P-1625-82334',\n",
       " 'P-2122-141929',\n",
       " 'P-1756-100884',\n",
       " 'P-2013-136161',\n",
       " 'P-1906-108625',\n",
       " 'P-2060-138595',\n",
       " 'P-1958-132509',\n",
       " 'P-1951-132008',\n",
       " 'P-2122-141958',\n",
       " 'P-1952-132077',\n",
       " 'P-2125-142147',\n",
       " 'P-1625-82329',\n",
       " 'P-1827-103443',\n",
       " 'P-1924-130223',\n",
       " 'P-1952-132096',\n",
       " 'P-1952-132061',\n",
       " 'P-1625-82239',\n",
       " 'P-602-114519',\n",
       " 'P-2122-141941',\n",
       " 'P-499-118450',\n",
       " 'P-1955-132276',\n",
       " 'P-1958-132519',\n",
       " 'P-475-96915',\n",
       " 'P-1952-132074',\n",
       " 'P-2060-138618',\n",
       " 'P-1642-83756',\n",
       " 'P-1953-132142',\n",
       " 'P-2060-138617',\n",
       " 'P-1826-103305',\n",
       " 'P-1617-81842',\n",
       " 'P-2122-141959',\n",
       " 'P-1957-132437',\n",
       " 'P-1631-82830',\n",
       " 'P-1958-132498',\n",
       " 'P-1827-103401',\n",
       " 'P-1906-108617',\n",
       " 'P-603-114565',\n",
       " 'P-2125-142151',\n",
       " 'P-1826-103330',\n",
       " 'P-1958-132468',\n",
       " 'P-1951-132014',\n",
       " 'P-1907-108737',\n",
       " 'P-1903-108443',\n",
       " 'P-495-118209',\n",
       " 'P-2121-141883',\n",
       " 'P-2123-141989',\n",
       " 'P-2116-141524',\n",
       " 'P-2014-136277',\n",
       " 'P-1826-103369',\n",
       " 'P-1921-109989',\n",
       " 'P-1953-132153',\n",
       " 'P-1748-100488',\n",
       " 'P-1956-132339',\n",
       " 'P-2121-141898',\n",
       " 'P-1959-132535',\n",
       " 'P-1907-108734',\n",
       " 'P-2079-139499',\n",
       " 'P-1799-102594',\n",
       " 'P-1955-132273',\n",
       " 'P-1957-132417',\n",
       " 'P-2078-139431',\n",
       " 'P-1632-82721',\n",
       " 'P-1952-132052',\n",
       " 'P-2080-139504']"
      ]
     },
     "execution_count": 26,
     "metadata": {},
     "output_type": "execute_result"
    }
   ],
   "source": [
    "df_small = df.sample(n = 100)\n",
    "df_final = df_small['COMPONENT_ID'].to_list()\n",
    "df_final"
   ]
  }
 ],
 "metadata": {
  "kernelspec": {
   "display_name": "diss_env",
   "language": "python",
   "name": "python3"
  },
  "language_info": {
   "codemirror_mode": {
    "name": "ipython",
    "version": 3
   },
   "file_extension": ".py",
   "mimetype": "text/x-python",
   "name": "python",
   "nbconvert_exporter": "python",
   "pygments_lexer": "ipython3",
   "version": "3.9.7"
  }
 },
 "nbformat": 4,
 "nbformat_minor": 5
}
